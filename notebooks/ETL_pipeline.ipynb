{
 "cells": [
  {
   "cell_type": "code",
   "execution_count": 2,
   "id": "51825693",
   "metadata": {},
   "outputs": [],
   "source": [
    "import pandas as pd\n",
    "from sqlalchemy import create_engine\n",
    "from datetime import datetime\n"
   ]
  },
  {
   "cell_type": "code",
   "execution_count": 11,
   "id": "9e6b588b",
   "metadata": {},
   "outputs": [],
   "source": [
    "db_user = \"root\"\n",
    "db_password = \"ortonfan007!\"  \n",
    "db_host = \"localhost\"\n",
    "db_port = \"3306\"\n",
    "db_name = \"ptcl_inventory\"\n",
    "\n",
    "# SQLAlchemy connection string\n",
    "connection_string = f\"mysql+pymysql://{db_user}:{db_password}@{db_host}:{db_port}/{db_name}\"\n",
    "engine = create_engine(connection_string)\n"
   ]
  },
  {
   "cell_type": "code",
   "execution_count": 5,
   "id": "fc5d25a3",
   "metadata": {},
   "outputs": [
    {
     "name": "stdout",
     "output_type": "stream",
     "text": [
      "Collecting pymysql\n",
      "  Obtaining dependency information for pymysql from https://files.pythonhosted.org/packages/0c/94/e4181a1f6286f545507528c78016e00065ea913276888db2262507693ce5/PyMySQL-1.1.1-py3-none-any.whl.metadata\n",
      "  Using cached PyMySQL-1.1.1-py3-none-any.whl.metadata (4.4 kB)\n",
      "Using cached PyMySQL-1.1.1-py3-none-any.whl (44 kB)\n",
      "Installing collected packages: pymysql\n",
      "Successfully installed pymysql-1.1.1\n"
     ]
    }
   ],
   "source": [
    "!pip install pymysql\n",
    "\n"
   ]
  },
  {
   "cell_type": "code",
   "execution_count": 3,
   "id": "09e8fbac",
   "metadata": {},
   "outputs": [],
   "source": [
    "# Load CSVs\n",
    "sheet1 = pd.read_csv('../data_raw/ptcl_sheet1.csv')\n",
    "sto1 = pd.read_csv('../data_raw/ptcl_sto1.csv')\n"
   ]
  },
  {
   "cell_type": "code",
   "execution_count": 4,
   "id": "e0332bad",
   "metadata": {},
   "outputs": [],
   "source": [
    "def clean_column_names(df):\n",
    "    return df.rename(columns=lambda col: col.strip().lower().replace(\" \", \"_\").replace(\".\", \"\").replace(\"/\", \"_\"))\n",
    "sheet1_clean = clean_column_names(sheet1)\n",
    "sto1_clean = clean_column_names(sto1)"
   ]
  },
  {
   "cell_type": "code",
   "execution_count": 5,
   "id": "2421f584",
   "metadata": {},
   "outputs": [],
   "source": [
    "# ✅ STEP 1: Clean column names\n",
    "sheet1_clean = clean_column_names(sheet1)\n",
    "sto1_clean = clean_column_names(sto1)\n",
    "\n",
    "# ✅ STEP 2: Convert date columns to datetime format\n",
    "sheet1_date_cols = ['posting_date', 'document_date', 'entry_date']\n",
    "sto1_date_cols = ['posting_date', 'document_date', 'entry_date', 'deliv_date', 'gr_posting_date']\n",
    "\n",
    "# For Sheet1\n",
    "for col in sheet1_date_cols:\n",
    "    sheet1_clean[col] = pd.to_datetime(sheet1_clean[col], format='%d/%m/%Y', errors='coerce')\n",
    "\n",
    "# For STO1\n",
    "for col in sto1_date_cols:\n",
    "    if col in sto1_clean.columns:\n",
    "        sto1_clean[col] = pd.to_datetime(sto1_clean[col], format='%d/%m/%Y', errors='coerce')\n",
    "\n"
   ]
  },
  {
   "cell_type": "code",
   "execution_count": 6,
   "id": "05da234e",
   "metadata": {},
   "outputs": [],
   "source": [
    "sheet1_clean = sheet1_clean.rename(columns={\"amtin_loccur\": \"amt_in_loc_cur\"})\n",
    "sto1_clean = sto1_clean.rename(columns={\"amtin_loccur\": \"amt_in_loc_cur\"})\n"
   ]
  },
  {
   "cell_type": "code",
   "execution_count": 7,
   "id": "d92aeb18",
   "metadata": {},
   "outputs": [],
   "source": [
    "sheet1_clean.rename(columns={'amtin_loccur': 'amt_in_loc_cur'}, inplace=True)\n",
    "sto1_clean.rename(columns={'amtin_loccur': 'amt_in_loc_cur'}, inplace=True)"
   ]
  },
  {
   "cell_type": "code",
   "execution_count": 8,
   "id": "5d4b193e",
   "metadata": {},
   "outputs": [
    {
     "name": "stdout",
     "output_type": "stream",
     "text": [
      "✅ sheet1_clean columns are valid.\n",
      "✅ sto1_clean columns are valid.\n"
     ]
    }
   ],
   "source": [
    "def validate_columns(df, expected_columns, df_name=\"DataFrame\"):\n",
    "    actual = set(df.columns)\n",
    "    expected = set(expected_columns)\n",
    "    \n",
    "    missing = expected - actual\n",
    "    extra = actual - expected\n",
    "\n",
    "    if missing:\n",
    "        print(f\"❌ {df_name} is missing columns: {missing}\")\n",
    "    if extra:\n",
    "        print(f\"⚠️  {df_name} has unexpected extra columns: {extra}\")\n",
    "    if not missing and not extra:\n",
    "        print(f\"✅ {df_name} columns are valid.\")\n",
    "\n",
    "# Expected schemas (no ingestion_date here)\n",
    "expected_sheet1_columns = [\n",
    "    'plant', 'storage_location', 'purchase_order', 'material', 'material_description',\n",
    "    'reference', 'quantity', 'unit_of_entry', 'posting_date', 'amt_in_loc_cur',\n",
    "    'movement_type', 'user_name', 'document_date', 'entry_date'\n",
    "]\n",
    "\n",
    "expected_sto1_columns = [\n",
    "    'plant', 'storage_location', 'purchase_order', 'material', 'material_description',\n",
    "    'reference', 'quantity', 'unit_of_entry', 'posting_date', 'amt_in_loc_cur',\n",
    "    'movement_type', 'user_name', 'document_date', 'entry_date',\n",
    "    'receiving_plant', 'deliv_date', 'gr_posting_date'\n",
    "]\n",
    "\n",
    "# ✅ Run validations before loading\n",
    "validate_columns(sheet1_clean, expected_sheet1_columns, \"sheet1_clean\")\n",
    "validate_columns(sto1_clean, expected_sto1_columns, \"sto1_clean\")\n"
   ]
  },
  {
   "cell_type": "code",
   "execution_count": 9,
   "id": "e9f589e3",
   "metadata": {},
   "outputs": [],
   "source": [
    "from datetime import datetime\n",
    "\n",
    "today = datetime.today().strftime('%Y-%m-%d')  # Use uniform format\n",
    "\n",
    "sheet1_clean[\"ingestion_date\"] = today\n",
    "sto1_clean[\"ingestion_date\"] = today\n",
    "\n"
   ]
  },
  {
   "cell_type": "code",
   "execution_count": 12,
   "id": "84cc2040",
   "metadata": {},
   "outputs": [
    {
     "name": "stdout",
     "output_type": "stream",
     "text": [
      " Lets goooo! Data successfully loaded into MySQL!\n"
     ]
    }
   ],
   "source": [
    "# 🚀 Load cleaned data into MySQL tables\n",
    "sheet1_clean.to_sql('raw_sheet1', con=engine, if_exists='append', index=False)\n",
    "sto1_clean.to_sql('raw_sto1', con=engine, if_exists='append', index=False)\n",
    "\n",
    "print(\" Lets goooo! Data successfully loaded into MySQL!\")\n"
   ]
  }
 ],
 "metadata": {
  "kernelspec": {
   "display_name": "Python 3 (ipykernel)",
   "language": "python",
   "name": "python3"
  },
  "language_info": {
   "codemirror_mode": {
    "name": "ipython",
    "version": 3
   },
   "file_extension": ".py",
   "mimetype": "text/x-python",
   "name": "python",
   "nbconvert_exporter": "python",
   "pygments_lexer": "ipython3",
   "version": "3.11.5"
  }
 },
 "nbformat": 4,
 "nbformat_minor": 5
}
