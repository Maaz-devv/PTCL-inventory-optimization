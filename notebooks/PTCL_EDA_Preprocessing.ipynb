{
 "cells": [
  {
   "cell_type": "code",
   "execution_count": 1,
   "id": "585448cc-a560-46f9-9368-a45b69ae9bbd",
   "metadata": {},
   "outputs": [
    {
     "name": "stdout",
     "output_type": "stream",
     "text": [
      "✅ Processed tables created successfully.\n"
     ]
    }
   ],
   "source": [
    "import pandas as pd\n",
    "from sqlalchemy import create_engine\n",
    "\n",
    "# ---------------------------------------\n",
    "# 🔗 DATABASE CONNECTION\n",
    "# ---------------------------------------\n",
    "DB_USER = \"root\"\n",
    "DB_PASSWORD = \"ortonfan007!\"\n",
    "DB_HOST = \"localhost\"\n",
    "DB_PORT = \"3306\"\n",
    "DB_NAME = \"ptcl_inventory\"\n",
    "\n",
    "connection_string = f\"mysql+pymysql://{DB_USER}:{DB_PASSWORD}@{DB_HOST}:{DB_PORT}/{DB_NAME}\"\n",
    "engine = create_engine(connection_string)\n",
    "\n",
    "# ---------------------------------------\n",
    "# 📌 TRANSFORM: Create processed tables\n",
    "# ---------------------------------------\n",
    "sheet1_query = \"\"\"\n",
    "CREATE TABLE processed_sheet1 AS\n",
    "SELECT DISTINCT\n",
    "    plant,\n",
    "    storage_location,\n",
    "    purchase_order,\n",
    "    material,\n",
    "    material_description,\n",
    "    quantity,\n",
    "    posting_date,\n",
    "    movement_type,\n",
    "    amt_in_loc_cur,\n",
    "    entry_date,\n",
    "    ingestion_date\n",
    "FROM raw_sheet1\n",
    "WHERE movement_type IN ('101', '201');\n",
    "\"\"\"\n",
    "\n",
    "sto1_query = \"\"\"\n",
    "CREATE  TABLE processed_sto1 AS\n",
    "SELECT DISTINCT\n",
    "    plant,\n",
    "    storage_location,\n",
    "    purchase_order,\n",
    "    material,\n",
    "    material_description,\n",
    "    quantity,\n",
    "    posting_date,\n",
    "    movement_type,\n",
    "    amt_in_loc_cur,\n",
    "    receiving_plant,\n",
    "    deliv_date,\n",
    "    gr_posting_date,\n",
    "    ingestion_date\n",
    "FROM raw_sto1\n",
    "WHERE movement_type IN ('301', '303');\n",
    "\"\"\"\n",
    "\n",
    "# ---------------------------------------\n",
    "# ✅ EXECUTE\n",
    "# ---------------------------------------\n",
    "try:\n",
    "    with engine.begin() as connection:\n",
    "        connection.execute(sheet1_query)\n",
    "        connection.execute(sto1_query)\n",
    "        print(\"✅ Processed tables created successfully.\")\n",
    "except Exception as e:\n",
    "    print(\"❌ Error creating processed tables:\", str(e))\n"
   ]
  },
  {
   "cell_type": "code",
   "execution_count": null,
   "id": "6cbe8ce2-89ab-4b2e-820b-0893b812c310",
   "metadata": {},
   "outputs": [],
   "source": []
  }
 ],
 "metadata": {
  "kernelspec": {
   "display_name": "Python 3 (ipykernel)",
   "language": "python",
   "name": "python3"
  },
  "language_info": {
   "codemirror_mode": {
    "name": "ipython",
    "version": 3
   },
   "file_extension": ".py",
   "mimetype": "text/x-python",
   "name": "python",
   "nbconvert_exporter": "python",
   "pygments_lexer": "ipython3",
   "version": "3.11.5"
  }
 },
 "nbformat": 4,
 "nbformat_minor": 5
}
